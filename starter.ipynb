{
 "cells": [
  {
   "cell_type": "code",
   "execution_count": 161,
   "metadata": {},
   "outputs": [
    {
     "name": "stdout",
     "output_type": "stream",
     "text": [
      "[5. 5. 5. ... 2. 2. 2.]\n"
     ]
    }
   ],
   "source": [
    "import pandas as pd\n",
    "import numpy as np\n",
    "\n",
    "X_tr = np.loadtxt('X_train.txt', delimiter=' ')\n",
    "Y_tr = np.loadtxt('y_train.txt')\n",
    "train_size = int(X_tr.shape[0]*0.8)\n",
    "X_train = X_tr[0:train_size]\n",
    "Y_train = Y_tr[0:train_size]\n",
    "X_val = X_tr[train_size:]\n",
    "Y_val = Y_tr[train_size:]\n",
    "\n",
    "X_test = np.loadtxt('X_test.txt', delimiter=' ')\n",
    "Y_test = np.loadtxt('y_test.txt')\n",
    "\n",
    "print(Y_test)"
   ]
  },
  {
   "cell_type": "code",
   "execution_count": 171,
   "metadata": {},
   "outputs": [
    {
     "name": "stdout",
     "output_type": "stream",
     "text": [
      "Training svm... for C:0.03125\n",
      "Creating predict model...\n",
      "[5. 5. 5. ... 5. 5. 5.]\n",
      "Training svm... for C:0.0625\n",
      "Creating predict model...\n",
      "[5. 5. 5. ... 5. 5. 5.]\n",
      "Training svm... for C:0.125\n",
      "Creating predict model...\n",
      "[5. 5. 5. ... 5. 5. 5.]\n",
      "Training svm... for C:0.25\n",
      "Creating predict model...\n",
      "[5. 5. 5. ... 5. 5. 5.]\n",
      "Training svm... for C:0.5\n",
      "Creating predict model...\n",
      "[5. 5. 5. ... 5. 5. 5.]\n",
      "Training svm... for C:1\n",
      "Creating predict model...\n",
      "[5. 5. 5. ... 5. 5. 5.]\n",
      "Training svm... for C:2\n",
      "Creating predict model...\n",
      "[5. 5. 5. ... 5. 5. 5.]\n",
      "Training svm... for C:4\n",
      "Creating predict model...\n",
      "[5. 5. 5. ... 5. 5. 5.]\n",
      "Training svm... for C:8\n",
      "Creating predict model...\n",
      "[5. 5. 5. ... 5. 5. 5.]\n",
      "Training svm... for C:16\n",
      "Creating predict model...\n",
      "[5. 5. 5. ... 5. 5. 5.]\n"
     ]
    }
   ],
   "source": [
    "from sklearn import svm\n",
    "#### Linear SVM Classifier ####\n",
    "\n",
    "indx=0\n",
    "accuracy = np.zeros(11)\n",
    "for i in range(-5,5):\n",
    "        print('Training svm... for C:{}'.format(2**i))\n",
    "        lsvm_clf = svm.SVC(C=2**i, kernel='linear')\n",
    "        lsvm_clf.fit(X_train,Y_train)\n",
    "\n",
    "        print('Creating predict model...')\n",
    "        pred = lsvm_clf.predict(X_train)\n",
    "        print(pred)"
   ]
  },
  {
   "cell_type": "code",
   "execution_count": 170,
   "metadata": {},
   "outputs": [
    {
     "name": "stdout",
     "output_type": "stream",
     "text": [
      "[5. 5. 5. ... 2. 2. 1.]\n"
     ]
    }
   ],
   "source": [
    "#knn\n",
    "from sklearn.neighbors import KNeighborsClassifier\n",
    "knn = KNeighborsClassifier()\n",
    "knn.fit(X_train, Y_train)\n",
    "KNeighborsClassifier()\n",
    "knn_pred = knn.predict(X_test);\n",
    "print(knn_pred)\n"
   ]
  },
  {
   "cell_type": "code",
   "execution_count": 175,
   "metadata": {},
   "outputs": [
    {
     "name": "stdout",
     "output_type": "stream",
     "text": [
      "[4. 5. 5. ... 2. 2. 2.]\n"
     ]
    }
   ],
   "source": [
    "import pandas as pd\n",
    "from sklearn.tree import DecisionTreeClassifier # Import Decision Tree Classifier\n",
    "from sklearn.model_selection import train_test_split # Import train_test_split function\n",
    "from sklearn import metrics #Import scikit-learn metrics module for accuracy calculation\n",
    "\n",
    "# Create Decision Tree classifer object\n",
    "clf = DecisionTreeClassifier()\n",
    "\n",
    "# Train Decision Tree Classifer\n",
    "clf = clf.fit(X_train,Y_train)\n",
    "\n",
    "#Predict the response for test dataset\n",
    "dt_y_pred = clf.predict(X_test)\n",
    "\n",
    "print(dt_y_pred)\n"
   ]
  },
  {
   "cell_type": "code",
   "execution_count": 181,
   "metadata": {},
   "outputs": [
    {
     "name": "stdout",
     "output_type": "stream",
     "text": [
      "[4.85 4.95 5.   ... 2.05 1.35 1.3 ]\n"
     ]
    }
   ],
   "source": [
    "#Random Forest\n",
    "\n",
    "from sklearn.ensemble import RandomForestRegressor\n",
    "from sklearn.datasets import make_regression\n",
    "regressor = RandomForestRegressor(n_estimators=20, random_state=0)\n",
    "regressor.fit(X_train, Y_train)\n",
    "rf_y_pred = regressor.predict(X_test)\n",
    "\n",
    "print(rf_y_pred)"
   ]
  },
  {
   "cell_type": "code",
   "execution_count": null,
   "metadata": {},
   "outputs": [],
   "source": []
  },
  {
   "cell_type": "code",
   "execution_count": null,
   "metadata": {},
   "outputs": [],
   "source": []
  }
 ],
 "metadata": {
  "kernelspec": {
   "display_name": "Python 3",
   "language": "python",
   "name": "python3"
  },
  "language_info": {
   "codemirror_mode": {
    "name": "ipython",
    "version": 3
   },
   "file_extension": ".py",
   "mimetype": "text/x-python",
   "name": "python",
   "nbconvert_exporter": "python",
   "pygments_lexer": "ipython3",
   "version": "3.8.2"
  }
 },
 "nbformat": 4,
 "nbformat_minor": 4
}
